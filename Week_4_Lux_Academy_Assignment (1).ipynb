{
  "nbformat": 4,
  "nbformat_minor": 0,
  "metadata": {
    "colab": {
      "provenance": []
    },
    "kernelspec": {
      "name": "python3",
      "display_name": "Python 3"
    },
    "language_info": {
      "name": "python"
    }
  },
  "cells": [
    {
      "cell_type": "markdown",
      "source": [],
      "metadata": {
        "id": "fINPogBKJUzx"
      }
    },
    {
      "cell_type": "markdown",
      "source": [
        "#1. Write a Python program to check whether a string is a palindrome or not using a stack."
      ],
      "metadata": {
        "id": "VqXMqUMVJXb2"
      }
    },
    {
      "cell_type": "code",
      "source": [
        "# Python program to check whether a string is palindrome or not\n",
        "\n",
        "stack = []\n",
        "\n",
        "# append() function to push element in the stack\n",
        "stack.append('F')\n",
        "stack.append('e')\n",
        "stack.append('l')\n",
        "stack.append('i')\n",
        "stack.append('x')\n",
        "\n",
        "print('Initial stack')\n",
        "print(stack)\n",
        "\n",
        "# pop() function to pop element from stack in LIFO(Last In Fast Out) order\n",
        "print('\\nElements popped from stack:')\n",
        "print(stack.pop())\n",
        "print(stack.pop())\n",
        "print(stack.pop())\n",
        "print(stack.pop())\n",
        "print(stack.pop())\n",
        "\n",
        "\n",
        "print('\\nStack after elements are popped:')\n",
        "print(stack)\n"
      ],
      "metadata": {
        "colab": {
          "base_uri": "https://localhost:8080/"
        },
        "id": "Let1pBfuJxwV",
        "outputId": "3b94ecd8-cfb6-4ff1-8fcf-b25d4044edac"
      },
      "execution_count": 23,
      "outputs": [
        {
          "output_type": "stream",
          "name": "stdout",
          "text": [
            "Initial stack\n",
            "['F', 'e', 'l', 'i', 'x']\n",
            "\n",
            "Elements popped from stack:\n",
            "x\n",
            "i\n",
            "l\n",
            "e\n",
            "F\n",
            "\n",
            "Stack after elements are popped:\n",
            "[]\n"
          ]
        }
      ]
    },
    {
      "cell_type": "markdown",
      "source": [
        "#2. Explain the Concept of list comprehension in Python w/ at least 3 examples"
      ],
      "metadata": {
        "id": "T7LydNrmK26A"
      }
    },
    {
      "cell_type": "markdown",
      "source": [
        "### List are collection of things enclosed in a square bracket [] and separated by commas"
      ],
      "metadata": {
        "id": "vlzyMKnXMIqr"
      }
    },
    {
      "cell_type": "code",
      "source": [
        "# Creating a list\n",
        "days_of_the_week = ['Monday','Tuesday','Wednesday','Thursday','Friday','Sarturday','Sunday']\n",
        "print(days_of_the_week)"
      ],
      "metadata": {
        "colab": {
          "base_uri": "https://localhost:8080/"
        },
        "id": "gy9Se8FwM9m2",
        "outputId": "b2118f96-8c2f-4a92-ecfc-a342dd08de8b"
      },
      "execution_count": 24,
      "outputs": [
        {
          "output_type": "stream",
          "name": "stdout",
          "text": [
            "['Monday', 'Tuesday', 'Wednesday', 'Thursday', 'Friday', 'Sarturday', 'Sunday']\n"
          ]
        }
      ]
    },
    {
      "cell_type": "markdown",
      "source": [],
      "metadata": {
        "id": "Mz9DW9T-M8jm"
      }
    },
    {
      "cell_type": "code",
      "source": [
        "# Access an element from the list\n",
        "print(days_of_the_week[0])\n",
        "print(days_of_the_week[5])"
      ],
      "metadata": {
        "colab": {
          "base_uri": "https://localhost:8080/"
        },
        "id": "crLPAfkFKeGR",
        "outputId": "fc98fc6b-bccb-4883-ba3f-3548927deebc"
      },
      "execution_count": 25,
      "outputs": [
        {
          "output_type": "stream",
          "name": "stdout",
          "text": [
            "Monday\n",
            "Sarturday\n"
          ]
        }
      ]
    },
    {
      "cell_type": "code",
      "source": [
        "# reverse a list\n",
        "print(days_of_the_week[::-1])"
      ],
      "metadata": {
        "colab": {
          "base_uri": "https://localhost:8080/"
        },
        "id": "wutj0Pb7OJW3",
        "outputId": "1b2017be-d830-4771-c12f-e798eeb30ac2"
      },
      "execution_count": 26,
      "outputs": [
        {
          "output_type": "stream",
          "name": "stdout",
          "text": [
            "['Sunday', 'Sarturday', 'Friday', 'Thursday', 'Wednesday', 'Tuesday', 'Monday']\n"
          ]
        }
      ]
    },
    {
      "cell_type": "markdown",
      "source": [
        "# 3. Explain what a compound datatype is in Python with three examples\n",
        "### These are datatypes that are made of other component/multiple values. The compound datatypes are lists, sets, dictionaries and tuples."
      ],
      "metadata": {
        "id": "zn26zPkPZtas"
      }
    },
    {
      "cell_type": "code",
      "source": [
        "# Example 1\n",
        "# Sets\n",
        "set1 = {1,2,3,5,6,7,8,9}\n",
        "print(set1)\n"
      ],
      "metadata": {
        "colab": {
          "base_uri": "https://localhost:8080/"
        },
        "id": "Ka91UR7OZQK0",
        "outputId": "88c4ceb2-3a68-495b-fbc0-34191c5e047e"
      },
      "execution_count": 27,
      "outputs": [
        {
          "output_type": "stream",
          "name": "stdout",
          "text": [
            "{1, 2, 3, 5, 6, 7, 8, 9}\n"
          ]
        }
      ]
    },
    {
      "cell_type": "code",
      "source": [
        "# example 2\n",
        "# Dictionaries\n",
        "dict ={'Jan' : '1', 'Feb' : '2', 'mar' : '3', 'Apr' : '4', 'May' : '5', 'Jun' : '6', 'Jul' : '7', 'Aug' : '8', 'Sep' : '9', 'Oct' : '10', 'Nov' : '11', 'Dec' : '12'}\n",
        "dict"
      ],
      "metadata": {
        "colab": {
          "base_uri": "https://localhost:8080/"
        },
        "id": "BkCpaieXu_PQ",
        "outputId": "de5de3fa-ec0e-46c4-c084-db122b33c412"
      },
      "execution_count": 28,
      "outputs": [
        {
          "output_type": "execute_result",
          "data": {
            "text/plain": [
              "{'Jan': '1',\n",
              " 'Feb': '2',\n",
              " 'mar': '3',\n",
              " 'Apr': '4',\n",
              " 'May': '5',\n",
              " 'Jun': '6',\n",
              " 'Jul': '7',\n",
              " 'Aug': '8',\n",
              " 'Sep': '9',\n",
              " 'Oct': '10',\n",
              " 'Nov': '11',\n",
              " 'Dec': '12'}"
            ]
          },
          "metadata": {},
          "execution_count": 28
        }
      ]
    },
    {
      "cell_type": "code",
      "source": [
        "# Example 3\n",
        "# Tuples\n",
        "tuple1 = ('Hello','World')\n",
        "tuple1"
      ],
      "metadata": {
        "colab": {
          "base_uri": "https://localhost:8080/"
        },
        "id": "AvbK_4PJvsCI",
        "outputId": "263f0472-69d8-4f11-f904-bf8f5a1f1695"
      },
      "execution_count": 29,
      "outputs": [
        {
          "output_type": "execute_result",
          "data": {
            "text/plain": [
              "('Hello', 'World')"
            ]
          },
          "metadata": {},
          "execution_count": 29
        }
      ]
    },
    {
      "cell_type": "markdown",
      "source": [
        "# 4. Write a function that takes a  string and returns a  list of bigrams"
      ],
      "metadata": {
        "id": "9NFj3D8mz79B"
      }
    },
    {
      "cell_type": "code",
      "source": [
        "# initializing list\n",
        "\n",
        "gram_list = ['lux academy is the best', 'I love it']\n",
        "\n",
        "# printing the original list\n",
        "\n",
        "print (\"The original list is : \" + str(gram_list))\n",
        "\n",
        "# using list comprehension + enumerate() + split() for Bigram formation\n",
        "\n",
        "res = [(x, i.split()[j + 1]) for i in gram_list\n",
        "\n",
        "for j, x in enumerate(i.split()) if j < len(i.split()) - 1]\n",
        "\n",
        "# printing result\n",
        "\n",
        "print (\"The formed bigrams are : \" + str(res))"
      ],
      "metadata": {
        "colab": {
          "base_uri": "https://localhost:8080/"
        },
        "id": "dQnvctQoz4Dp",
        "outputId": "561ddff9-81ea-445a-d002-f00b06669b6c"
      },
      "execution_count": 30,
      "outputs": [
        {
          "output_type": "stream",
          "name": "stdout",
          "text": [
            "The original list is : ['lux academy is the best', 'I love it']\n",
            "The formed bigrams are : [('lux', 'academy'), ('academy', 'is'), ('is', 'the'), ('the', 'best'), ('I', 'love'), ('love', 'it')]\n"
          ]
        }
      ]
    },
    {
      "cell_type": "markdown",
      "source": [
        "#5. Given a dictionary with keys as letters and values as lists of letters, write a function closest_key to find the key with the input value closest to the beginning of the list"
      ],
      "metadata": {
        "id": "WsLMtUT_GJef"
      }
    },
    {
      "cell_type": "code",
      "source": [
        "# initializing dictionary\n",
        "initial_dict = {1 : 'Felix', 11 : 'Onyango', 21 : 'Owuor'}\n",
        "\n",
        "# initializing nearest key\n",
        "closest_key = 5.2\n",
        "\n",
        "# printing original dictionary\n",
        "print(\"The original dictionary is : \" + str(initial_dict))\n",
        "\n",
        "# Using list comprehension + keys() + lambda Closest key in dictionary\n",
        "res = initial_dict.get(closest_key) or initial_dict[\n",
        "\tmin(initial_dict.keys(), key = lambda key: abs(key-closest_key))]\n",
        "\n",
        "\n",
        "print(\"The value to the closest key : \" + str(res))"
      ],
      "metadata": {
        "colab": {
          "base_uri": "https://localhost:8080/"
        },
        "id": "_OTVKTZU1C40",
        "outputId": "e586573f-0735-43ef-d297-a30fd6be68ad"
      },
      "execution_count": 31,
      "outputs": [
        {
          "output_type": "stream",
          "name": "stdout",
          "text": [
            "The original dictionary is : {1: 'Felix', 11: 'Onyango', 21: 'Owuor'}\n",
            "The value to the closest key : Felix\n"
          ]
        }
      ]
    },
    {
      "cell_type": "code",
      "source": [],
      "metadata": {
        "id": "6tPKpcSuMo2o"
      },
      "execution_count": 31,
      "outputs": []
    }
  ]
}